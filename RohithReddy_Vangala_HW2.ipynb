{
 "cells": [
  {
   "cell_type": "markdown",
   "metadata": {
    "id": "LcPYNjWRGryc"
   },
   "source": [
    "# Deep Learning Assignment - 2\n",
    "# Rohith Reddy Vangala\n",
    "# 016762109\n",
    "# Git Link - https://github.com/rohithreddy66666/Deep_Learning_Assignments"
   ]
  },
  {
   "cell_type": "code",
   "execution_count": 1,
   "metadata": {
    "id": "Z_n9rJZ6GjVm"
   },
   "outputs": [],
   "source": [
    "import torch\n",
    "import torch.nn as nn\n",
    "import torch.optim as optim\n",
    "import torchvision\n",
    "import torchvision.transforms as transforms\n",
    "from torch.utils.data import DataLoader\n",
    "import matplotlib.pyplot as plt\n",
    "\n",
    "# Load QMNIST dataset and preprocess\n",
    "transform = transforms.Compose([\n",
    "    transforms.ToTensor(),\n",
    "    transforms.Normalize((0.5,), (0.5,))\n",
    "])\n",
    "train_dataset = torchvision.datasets.QMNIST(root='./data', train=True, download=True, transform=transform)\n",
    "test_dataset = torchvision.datasets.QMNIST(root='./data', train=False, download=True, transform=transform)\n",
    "\n",
    "# Create data loaders\n",
    "train_loader = DataLoader(train_dataset, batch_size=64, shuffle=True)\n",
    "test_loader = DataLoader(test_dataset, batch_size=64, shuffle=False)\n"
   ]
  },
  {
   "cell_type": "code",
   "execution_count": 2,
   "metadata": {
    "colab": {
     "base_uri": "https://localhost:8080/",
     "height": 675
    },
    "id": "T82-G3zNJKCP",
    "outputId": "e584ba23-5650-4439-d586-7a8c8fadc6e2"
   },
   "outputs": [
    {
     "data": {
      "image/png": "[encoded data removed]",
      "text/plain": [
       "<Figure size 800x800 with 9 Axes>"
      ]
     },
     "metadata": {},
     "output_type": "display_data"
    }
   ],
   "source": [
    "# Map for QMNIST labels, which are digits from 0 to 9\n",
    "labels_map = {\n",
    "    0: \"0\", 1: \"1\", 2: \"2\", 3: \"3\", 4: \"4\",\n",
    "    5: \"5\", 6: \"6\", 7: \"7\", 8: \"8\", 9: \"9\"\n",
    "}\n",
    "\n",
    "# Visualization function for the QMNIST dataset\n",
    "figure = plt.figure(figsize=(8, 8))\n",
    "cols, rows = 3, 3\n",
    "for i in range(1, cols * rows + 1):\n",
    "    sample_idx = torch.randint(len(train_dataset), size=(1,)).item()\n",
    "    img, label = train_dataset[sample_idx]\n",
    "    figure.add_subplot(rows, cols, i)\n",
    "    plt.title(labels_map[label])\n",
    "    plt.axis(\"off\")\n",
    "    plt.imshow(img.squeeze(), cmap=\"gray\")\n",
    "plt.show()\n"
   ]
  },
  {
   "cell_type": "code",
   "execution_count": 3,
   "metadata": {
    "id": "6enKk-RqJV8_"
   },
   "outputs": [],
   "source": [
    "# Define the neural network architecture\n",
    "class MLP(nn.Module):\n",
    "    def __init__(self):\n",
    "        super(MLP, self).__init__()\n",
    "        self.fc1 = nn.Linear(28 * 28, 128)  # QMNIST images are 28x28, flatten them to 784 elements\n",
    "        self.fc2 = nn.Linear(128, 64)\n",
    "        self.fc3 = nn.Linear(64, 10)  # Output layer, for 10 classes\n",
    "\n",
    "    def forward(self, x):\n",
    "        x = x.view(-1, 28 * 28)  # Flatten the image\n",
    "        x = torch.relu(self.fc1(x))\n",
    "        x = torch.relu(self.fc2(x))\n",
    "        x = self.fc3(x)  # No softmax needed as it is included in nn.CrossEntropyLoss\n",
    "        return x\n",
    "\n",
    "# Initialize the neural network\n",
    "model = MLP()\n"
   ]
  },
  {
   "cell_type": "code",
   "execution_count": 4,
   "metadata": {
    "id": "d036V4OCJVxN"
   },
   "outputs": [],
   "source": [
    "# Define the loss function and optimizer\n",
    "criterion = nn.CrossEntropyLoss()  # Suitable for multi-class classification\n",
    "optimizer = optim.Adam(model.parameters(), lr=0.001)  # Using Adam optimizer with a learning rate of 0.001\n"
   ]
  },
  {
   "cell_type": "code",
   "execution_count": 5,
   "metadata": {
    "colab": {
     "base_uri": "https://localhost:8080/"
    },
    "id": "R3jhZ8c9JpQt",
    "outputId": "3daa858a-686a-4869-fe27-17bd97821f1f"
   },
   "outputs": [
    {
     "name": "stdout",
     "output_type": "stream",
     "text": [
      "Epoch 1, Batch 100, Loss: 1.067873060107231\n",
      "Epoch 1, Batch 200, Loss: 0.43796215012669565\n",
      "Epoch 1, Batch 300, Loss: 0.3709244032204151\n",
      "Epoch 1, Batch 400, Loss: 0.34404019467532637\n",
      "Epoch 1, Batch 500, Loss: 0.33693550325930116\n",
      "Epoch 1, Batch 600, Loss: 0.2948687559366226\n",
      "Epoch 1, Batch 700, Loss: 0.27502964697778226\n",
      "Epoch 1, Batch 800, Loss: 0.2733087466657162\n",
      "Epoch 1, Batch 900, Loss: 0.23646425448358058\n",
      "Epoch 2, Batch 100, Loss: 0.2262163470685482\n",
      "Epoch 2, Batch 200, Loss: 0.19642693035304545\n",
      "Epoch 2, Batch 300, Loss: 0.21162035562098025\n",
      "Epoch 2, Batch 400, Loss: 0.19451099269092084\n",
      "Epoch 2, Batch 500, Loss: 0.20591210290789605\n",
      "Epoch 2, Batch 600, Loss: 0.1994524972140789\n",
      "Epoch 2, Batch 700, Loss: 0.16944984134286642\n",
      "Epoch 2, Batch 800, Loss: 0.1702181687951088\n",
      "Epoch 2, Batch 900, Loss: 0.17726700846105814\n",
      "Epoch 3, Batch 100, Loss: 0.15099807469174265\n",
      "Epoch 3, Batch 200, Loss: 0.15550436828285455\n",
      "Epoch 3, Batch 300, Loss: 0.1469092752225697\n",
      "Epoch 3, Batch 400, Loss: 0.1458630245551467\n",
      "Epoch 3, Batch 500, Loss: 0.1384270314872265\n",
      "Epoch 3, Batch 600, Loss: 0.12664872398599983\n",
      "Epoch 3, Batch 700, Loss: 0.1297372136823833\n",
      "Epoch 3, Batch 800, Loss: 0.13195757839828728\n",
      "Epoch 3, Batch 900, Loss: 0.12522968957200648\n",
      "Epoch 4, Batch 100, Loss: 0.11175606449134648\n",
      "Epoch 4, Batch 200, Loss: 0.11392422363162041\n",
      "Epoch 4, Batch 300, Loss: 0.11515903349965811\n",
      "Epoch 4, Batch 400, Loss: 0.09594333574175834\n",
      "Epoch 4, Batch 500, Loss: 0.12342320477589964\n",
      "Epoch 4, Batch 600, Loss: 0.11887137856334448\n",
      "Epoch 4, Batch 700, Loss: 0.11271952452138066\n",
      "Epoch 4, Batch 800, Loss: 0.11995855500921607\n",
      "Epoch 4, Batch 900, Loss: 0.11668192030861974\n",
      "Epoch 5, Batch 100, Loss: 0.09619536459445953\n",
      "Epoch 5, Batch 200, Loss: 0.09192752962000668\n",
      "Epoch 5, Batch 300, Loss: 0.0857514718035236\n",
      "Epoch 5, Batch 400, Loss: 0.09478371975012123\n",
      "Epoch 5, Batch 500, Loss: 0.0882006011530757\n",
      "Epoch 5, Batch 600, Loss: 0.10687285730615258\n",
      "Epoch 5, Batch 700, Loss: 0.10570047414395958\n",
      "Epoch 5, Batch 800, Loss: 0.08665307716466486\n",
      "Epoch 5, Batch 900, Loss: 0.09566088749095797\n",
      "Finished Training\n"
     ]
    }
   ],
   "source": [
    "# Train the neural network\n",
    "num_epochs = 5  #  number of epochs\n",
    "for epoch in range(num_epochs):\n",
    "    model.train()  # Set the model to training mode\n",
    "    running_loss = 0.0\n",
    "    for i, data in enumerate(train_loader, 0):\n",
    "        inputs, labels = data\n",
    "\n",
    "        # Zero the parameter gradients\n",
    "        optimizer.zero_grad()\n",
    "\n",
    "        # Forward pass\n",
    "        outputs = model(inputs)\n",
    "        loss = criterion(outputs, labels)\n",
    "\n",
    "        # Backward pass and optimize\n",
    "        loss.backward()\n",
    "        optimizer.step()\n",
    "\n",
    "        running_loss += loss.item()\n",
    "        if i % 100 == 99:  # Print every 100 mini-batches\n",
    "            print(f'Epoch {epoch + 1}, Batch {i + 1}, Loss: {running_loss / 100}')\n",
    "            running_loss = 0.0\n",
    "\n",
    "print('Finished Training')\n"
   ]
  },
  {
   "cell_type": "code",
   "execution_count": 6,
   "metadata": {
    "colab": {
     "base_uri": "https://localhost:8080/"
    },
    "id": "TBTrOhssKGvp",
    "outputId": "7f95b7c2-fde7-4a59-fe34-64ca41b334df"
   },
   "outputs": [
    {
     "name": "stdout",
     "output_type": "stream",
     "text": [
      "Accuracy on test set: 95.44%\n"
     ]
    }
   ],
   "source": [
    "# Evaluate the model\n",
    "model.eval()  # Set the model to evaluation mode\n",
    "correct = 0\n",
    "total = 0\n",
    "with torch.no_grad():  # No gradients needed for evaluation\n",
    "    for data in test_loader:\n",
    "        images, labels = data\n",
    "        outputs = model(images)\n",
    "        _, predicted = torch.max(outputs.data, 1)\n",
    "        total += labels.size(0)\n",
    "        correct += (predicted == labels).sum().item()\n",
    "\n",
    "accuracy = 100 * correct / total\n",
    "print(f'Accuracy on test set: {accuracy:.2f}%')\n"
   ]
  },
  {
   "cell_type": "code",
   "execution_count": 7,
   "metadata": {
    "id": "QK24OFBuKd6g"
   },
   "outputs": [],
   "source": [
    "# Evaluate the model and store predictions\n",
    "model.eval()\n",
    "predictions = []\n",
    "correct = 0\n",
    "total = 0\n",
    "with torch.no_grad():\n",
    "    for data in test_loader:\n",
    "        images, labels = data\n",
    "        outputs = model(images)\n",
    "        _, predicted = torch.max(outputs.data, 1)\n",
    "        predictions.extend(predicted.cpu().numpy())  # Ensure to move predictions to CPU if running on GPU\n",
    "        total += labels.size(0)\n",
    "        correct += (predicted == labels).sum().item()\n"
   ]
  },
  {
   "cell_type": "code",
   "execution_count": 11,
   "metadata": {
    "colab": {
     "base_uri": "https://localhost:8080/",
     "height": 428
    },
    "id": "KOnM2N-OKmCo",
    "outputId": "fea68dbd-2278-4b1f-8b64-33f482a4b465"
   },
   "outputs": [
    {
     "data": {
      "image/png": "[encoded data removed]",
      "text/plain": [
       "<Figure size 640x480 with 1 Axes>"
      ]
     },
     "metadata": {},
     "output_type": "display_data"
    }
   ],
   "source": [
    "# Set model to evaluation mode\n",
    "model.eval()\n",
    "\n",
    "# Get a batch of test images and labels\n",
    "images, labels = next(iter(test_loader))\n",
    "image, true_label = images[6], labels[6]  # Select the seventh image for checking\n",
    "\n",
    "# Predict the label for the selected image\n",
    "with torch.no_grad():  # No need for gradient computation here\n",
    "    output = model(image.unsqueeze(0))  # batch dimension\n",
    "    _, predicted_label = torch.max(output, 1)\n",
    "\n",
    "# Check if the prediction is correct\n",
    "is_correct = \"Correct\" if predicted_label == true_label else \"Incorrect\"\n",
    "\n",
    "# Visualize the image and prediction result\n",
    "plt.imshow(image.squeeze(), cmap='gray')  # Remove channel dimension for visualization\n",
    "plt.title(f'Predicted: {predicted_label.item()}, Actual: {true_label.item()} - {is_correct}')\n",
    "plt.axis('off')\n",
    "plt.show()\n"
   ]
  },
  {
   "cell_type": "markdown",
   "metadata": {
    "id": "SEZ7iczeaDCd"
   },
   "source": []
  },
  {
   "cell_type": "markdown",
   "metadata": {
    "id": "MUniWYNkNE3H"
   },
   "source": [
    "# Hypothesis - Adding Additional Dense Layer"
   ]
  },
  {
   "cell_type": "code",
   "execution_count": 14,
   "metadata": {
    "id": "B5j8k8bdNH_X"
   },
   "outputs": [],
   "source": [
    "# Define the neural network architecture with an additional dense layer\n",
    "class MLP(nn.Module):\n",
    "    def __init__(self):\n",
    "        super(MLP, self).__init__()\n",
    "        self.fc1 = nn.Linear(28 * 28, 128)  # First dense layer\n",
    "        self.fc2 = nn.Linear(128, 128)      # New second dense layer with 128 nodes\n",
    "        self.fc3 = nn.Linear(128, 64)       # Third dense layer\n",
    "        self.fc4 = nn.Linear(64, 10)        # Output layer, for 10 classes\n",
    "\n",
    "    def forward(self, x):\n",
    "        x = x.view(-1, 28 * 28)  # Flatten the image\n",
    "        x = torch.relu(self.fc1(x))\n",
    "        x = torch.relu(self.fc2(x))\n",
    "        x = torch.relu(self.fc3(x))\n",
    "        x = self.fc4(x)  # No softmax needed as it is included in nn.CrossEntropyLoss\n",
    "        return x\n",
    "\n",
    "# Initialize the neural network with the additional layer\n",
    "model = MLP()\n",
    "\n",
    "# Define the loss function and optimizer\n",
    "criterion = nn.CrossEntropyLoss()\n",
    "optimizer = optim.Adam(model.parameters(), lr=0.001)\n"
   ]
  },
  {
   "cell_type": "code",
   "execution_count": 15,
   "metadata": {
    "colab": {
     "base_uri": "https://localhost:8080/"
    },
    "id": "G_tOtQyXNdbS",
    "outputId": "611f5993-f70c-4487-bf11-2c7d821e9e44"
   },
   "outputs": [
    {
     "name": "stdout",
     "output_type": "stream",
     "text": [
      "Epoch 1, Batch 100, Loss: 1.1511580380797386\n",
      "Epoch 1, Batch 200, Loss: 0.5202640342712402\n",
      "Epoch 1, Batch 300, Loss: 0.40703219816088676\n",
      "Epoch 1, Batch 400, Loss: 0.34866170793771745\n",
      "Epoch 1, Batch 500, Loss: 0.3315189203619957\n",
      "Epoch 1, Batch 600, Loss: 0.29834427058696744\n",
      "Epoch 1, Batch 700, Loss: 0.2708351005613804\n",
      "Epoch 1, Batch 800, Loss: 0.2696481337025762\n",
      "Epoch 1, Batch 900, Loss: 0.24486232809722425\n",
      "Epoch 2, Batch 100, Loss: 0.21920586213469506\n",
      "Epoch 2, Batch 200, Loss: 0.2217395618930459\n",
      "Epoch 2, Batch 300, Loss: 0.19843594051897526\n",
      "Epoch 2, Batch 400, Loss: 0.18794058002531527\n",
      "Epoch 2, Batch 500, Loss: 0.18682972088456154\n",
      "Epoch 2, Batch 600, Loss: 0.17440885953605176\n",
      "Epoch 2, Batch 700, Loss: 0.17229453671723605\n",
      "Epoch 2, Batch 800, Loss: 0.15519943587481977\n",
      "Epoch 2, Batch 900, Loss: 0.16032762175425888\n",
      "Epoch 3, Batch 100, Loss: 0.14325539663434028\n",
      "Epoch 3, Batch 200, Loss: 0.15707981890067457\n",
      "Epoch 3, Batch 300, Loss: 0.1355794319882989\n",
      "Epoch 3, Batch 400, Loss: 0.131865842230618\n",
      "Epoch 3, Batch 500, Loss: 0.13184779625386\n",
      "Epoch 3, Batch 600, Loss: 0.1426170901954174\n",
      "Epoch 3, Batch 700, Loss: 0.12753000965341926\n",
      "Epoch 3, Batch 800, Loss: 0.14492474509403108\n",
      "Epoch 3, Batch 900, Loss: 0.12013909259811044\n",
      "Epoch 4, Batch 100, Loss: 0.10774872877635061\n",
      "Epoch 4, Batch 200, Loss: 0.11084025807678699\n",
      "Epoch 4, Batch 300, Loss: 0.10840353881940246\n",
      "Epoch 4, Batch 400, Loss: 0.11248006578534842\n",
      "Epoch 4, Batch 500, Loss: 0.10593937094323337\n",
      "Epoch 4, Batch 600, Loss: 0.11314197096973658\n",
      "Epoch 4, Batch 700, Loss: 0.12871234498918058\n",
      "Epoch 4, Batch 800, Loss: 0.10369775224477053\n",
      "Epoch 4, Batch 900, Loss: 0.10711553033441305\n",
      "Epoch 5, Batch 100, Loss: 0.09185498395003379\n",
      "Epoch 5, Batch 200, Loss: 0.08580779928714037\n",
      "Epoch 5, Batch 300, Loss: 0.09576654020696879\n",
      "Epoch 5, Batch 400, Loss: 0.0984593837801367\n",
      "Epoch 5, Batch 500, Loss: 0.08883688132744283\n",
      "Epoch 5, Batch 600, Loss: 0.09538508550729602\n",
      "Epoch 5, Batch 700, Loss: 0.09173599944449962\n",
      "Epoch 5, Batch 800, Loss: 0.09029884530231357\n",
      "Epoch 5, Batch 900, Loss: 0.09382214183919131\n",
      "Finished Training\n"
     ]
    }
   ],
   "source": [
    "# Train the neural network\n",
    "num_epochs = 5  # You can adjust the number of epochs\n",
    "for epoch in range(num_epochs):\n",
    "    model.train()  # Set the model to training mode\n",
    "    running_loss = 0.0\n",
    "    for i, data in enumerate(train_loader, 0):\n",
    "        inputs, labels = data\n",
    "\n",
    "        # Zero the parameter gradients\n",
    "        optimizer.zero_grad()\n",
    "\n",
    "        # Forward pass\n",
    "        outputs = model(inputs)\n",
    "        loss = criterion(outputs, labels)\n",
    "\n",
    "        # Backward pass and optimize\n",
    "        loss.backward()\n",
    "        optimizer.step()\n",
    "\n",
    "        running_loss += loss.item()\n",
    "        if i % 100 == 99:  # Print every 100 mini-batches\n",
    "            print(f'Epoch {epoch + 1}, Batch {i + 1}, Loss: {running_loss / 100}')\n",
    "            running_loss = 0.0\n",
    "\n",
    "print('Finished Training')\n"
   ]
  },
  {
   "cell_type": "code",
   "execution_count": 16,
   "metadata": {
    "colab": {
     "base_uri": "https://localhost:8080/"
    },
    "id": "HKVvUidRNhb-",
    "outputId": "88f0967a-db08-4265-d88a-04fe4d14792f"
   },
   "outputs": [
    {
     "name": "stdout",
     "output_type": "stream",
     "text": [
      "Accuracy on test set: 96.62%\n"
     ]
    }
   ],
   "source": [
    "# Evaluate the model\n",
    "model.eval()  # Set the model to evaluation mode\n",
    "correct = 0\n",
    "total = 0\n",
    "with torch.no_grad():  # No gradients needed for evaluation\n",
    "    for data in test_loader:\n",
    "        images, labels = data\n",
    "        outputs = model(images)\n",
    "        _, predicted = torch.max(outputs.data, 1)\n",
    "        total += labels.size(0)\n",
    "        correct += (predicted == labels).sum().item()\n",
    "\n",
    "accuracy = 100 * correct / total\n",
    "print(f'Accuracy on test set: {accuracy:.2f}%')\n"
   ]
  },
  {
   "cell_type": "code",
   "execution_count": 17,
   "metadata": {
    "colab": {
     "base_uri": "https://localhost:8080/",
     "height": 428
    },
    "id": "RtPd3YQROL8o",
    "outputId": "e4b12545-2765-4501-9b17-bd57191f255c"
   },
   "outputs": [
    {
     "data": {
      "image/png": "[encoded data removed]",
      "text/plain": [
       "<Figure size 640x480 with 1 Axes>"
      ]
     },
     "metadata": {},
     "output_type": "display_data"
    }
   ],
   "source": [
    "# Set model to evaluation mode\n",
    "model.eval()\n",
    "\n",
    "# Get a batch of test images and labels\n",
    "images, labels = next(iter(test_loader))\n",
    "image, true_label = images[6], labels[6]  # Select the seventh image for checking\n",
    "\n",
    "# Predict the label for the selected image\n",
    "with torch.no_grad():  # No need for gradient computation here\n",
    "    output = model(image.unsqueeze(0))  # Add a batch dimension\n",
    "    _, predicted_label = torch.max(output, 1)\n",
    "\n",
    "# Check if the prediction is correct\n",
    "is_correct = \"Correct\" if predicted_label == true_label else \"Incorrect\"\n",
    "\n",
    "# Visualize the image and prediction result\n",
    "plt.imshow(image.squeeze(), cmap='gray')  # Remove channel dimension for visualization\n",
    "plt.title(f'Predicted: {predicted_label.item()}, Actual: {true_label.item()} - {is_correct}')\n",
    "plt.axis('off')\n",
    "plt.show()\n"
   ]
  },
  {
   "cell_type": "markdown",
   "metadata": {
    "id": "xferBqh3OOzR"
   },
   "source": []
  },
  {
   "cell_type": "markdown",
   "metadata": {
    "id": "iz2WZdKKOme5"
   },
   "source": [
    "Adding one more layer to the neural network made it a bit better at figuring out the QMNIST handwritten numbers. Before, the accuracy was 95.44%, but after the change, it went up to 96.62%. This means the network got smarter at knowing the difference between the numbers it had seen before and new ones it hadn't. With more nodes to work with, the network could spot more details and patterns that helped it get the right answers more often. But just because it's doing better now doesn't mean it will always get it right, especially with new numbers it hasn't learned yet. So, it's good to keep checking to make sure it's still learning the right things."
   ]
  },
  {
   "cell_type": "markdown",
   "metadata": {
    "id": "4C8Oj-t2aTc_"
   },
   "source": [
    "# Hypothesis - Testing with different optimizers"
   ]
  },
  {
   "cell_type": "code",
   "execution_count": 19,
   "metadata": {
    "colab": {
     "base_uri": "https://localhost:8080/"
    },
    "id": "_0NJ2f3dOnsZ",
    "outputId": "6a1d7e4b-cbf6-402a-8185-aae2caf528b0"
   },
   "outputs": [
    {
     "name": "stdout",
     "output_type": "stream",
     "text": [
      "Accuracy using SGD: 92.15%\n",
      "Accuracy using Adam: 96.10%\n",
      "Accuracy using RMSprop: 96.04%\n"
     ]
    }
   ],
   "source": [
    "# Redefine the MLP class to avoid any potential conflicts\n",
    "class ModifiedMLP(nn.Module):\n",
    "    def __init__(self):\n",
    "        super(ModifiedMLP, self).__init__()\n",
    "        self.fc1 = nn.Linear(28 * 28, 128)\n",
    "        self.fc2 = nn.Linear(128, 128)  # Additional layer\n",
    "        self.fc3 = nn.Linear(128, 64)\n",
    "        self.fc4 = nn.Linear(64, 10)\n",
    "\n",
    "    def forward(self, x):\n",
    "        x = x.view(-1, 28 * 28)\n",
    "        x = torch.relu(self.fc1(x))\n",
    "        x = torch.relu(self.fc2(x))\n",
    "        x = torch.relu(self.fc3(x))\n",
    "        return self.fc4(x)\n",
    "\n",
    "# Function to perform training and evaluation\n",
    "def train_and_evaluate(optimizer_class, lr, model, train_loader, test_loader, criterion, num_epochs=5):\n",
    "    optimizer = optimizer_class(model.parameters(), lr=lr)\n",
    "    for epoch in range(num_epochs):\n",
    "        model.train()\n",
    "        for images, labels in train_loader:\n",
    "            optimizer.zero_grad()\n",
    "            outputs = model(images)\n",
    "            loss = criterion(outputs, labels)\n",
    "            loss.backward()\n",
    "            optimizer.step()\n",
    "\n",
    "    # Evaluate the model\n",
    "    model.eval()\n",
    "    correct = 0\n",
    "    total = 0\n",
    "    with torch.no_grad():\n",
    "        for images, labels in test_loader:\n",
    "            outputs = model(images)\n",
    "            _, predicted = torch.max(outputs, 1)\n",
    "            total += labels.size(0)\n",
    "            correct += (predicted == labels).sum().item()\n",
    "    accuracy = 100 * correct / total\n",
    "    return accuracy\n",
    "\n",
    "# Optimizers to test\n",
    "optimizers_to_test = [\n",
    "    (optim.SGD, 0.01),\n",
    "    (optim.Adam, 0.001),\n",
    "    (optim.RMSprop, 0.001)\n",
    "]\n",
    "\n",
    "# Training and evaluation loop\n",
    "criterion = nn.CrossEntropyLoss()\n",
    "for optimizer_class, lr in optimizers_to_test:\n",
    "    # Reinitialize the model for each optimizer\n",
    "    model = ModifiedMLP()\n",
    "    accuracy = train_and_evaluate(optimizer_class, lr, model, train_loader, test_loader, criterion)\n",
    "    print(f'Accuracy using {optimizer_class.__name__}: {accuracy:.2f}%')\n"
   ]
  },
  {
   "cell_type": "markdown",
   "metadata": {
    "id": "5fvh4s4xTLpO"
   },
   "source": [
    "Adam and RMSprop outperformed SGD due to their adaptive learning rate mechanisms, which allow them to dynamically adjust the learning rate for each parameter based on the magnitude of recent gradients. SGD, on the other hand, uses a fixed learning rate for all parameters throughout training. This adaptability enables Adam and RMSprop to effectively navigate the complex and sometimes erratic landscape of the loss function, allowing for quicker convergence and better generalization. Adam maintains separate adaptive learning rates for each parameter, which are estimated from the first and second moments of the gradients. This ensures that the learning rate is appropriately scaled for each parameter, leading to more efficient optimization. Similarly, RMSprop scales the learning rate for each parameter based on the exponentially weighted moving average of the squared gradients, effectively mitigating the issue of oscillations in the parameter updates and allowing for more stable training. Thus, the superior performance of Adam and RMSprop on the QMNIST dataset can be attributed to their ability to adaptively adjust the learning rates, resulting in more effective and efficient optimization."
   ]
  },
  {
   "cell_type": "markdown",
   "metadata": {
    "id": "jqEoYM_OabuX"
   },
   "source": [
    "# Testing With Loss Functions"
   ]
  },
  {
   "cell_type": "code",
   "execution_count": 22,
   "metadata": {
    "colab": {
     "base_uri": "https://localhost:8080/"
    },
    "id": "nWCR1YuyTMvX",
    "outputId": "a1d9705b-b77d-43fa-ca64-0a62700ad03e"
   },
   "outputs": [
    {
     "name": "stdout",
     "output_type": "stream",
     "text": [
      "Accuracy using CrossEntropyLoss: 96.15%\n",
      "Accuracy using NLLLoss: 95.74%\n"
     ]
    }
   ],
   "source": [
    "import torch.nn.functional as F\n",
    "\n",
    "# Define a list of loss functions to test\n",
    "loss_functions = {\n",
    "    'CrossEntropyLoss': nn.CrossEntropyLoss(),\n",
    "    'NLLLoss': nn.NLLLoss(),\n",
    "    # Add more loss functions as needed\n",
    "}\n",
    "\n",
    "# Training and evaluation loop\n",
    "for loss_name, loss_func in loss_functions.items():\n",
    "    # Reinitialize the model for each loss function\n",
    "    model = ModifiedMLP()\n",
    "    optimizer = optim.Adam(model.parameters(), lr=0.001)  # Reinitialize optimizer\n",
    "    criterion = loss_func  # Set the criterion to the current loss function\n",
    "\n",
    "    # Train the model\n",
    "    for epoch in range(num_epochs):\n",
    "        model.train()\n",
    "        for images, labels in train_loader:\n",
    "            optimizer.zero_grad()\n",
    "            outputs = model(images)\n",
    "            if loss_name == 'NLLLoss':\n",
    "                outputs = F.log_softmax(outputs, dim=1)  # Apply log softmax for NLLLoss\n",
    "            loss = criterion(outputs, labels)\n",
    "            loss.backward()\n",
    "            optimizer.step()\n",
    "\n",
    "    # Evaluate the model\n",
    "    model.eval()\n",
    "    correct = 0\n",
    "    total = 0\n",
    "    with torch.no_grad():\n",
    "        for images, labels in test_loader:\n",
    "            outputs = model(images)\n",
    "            if loss_name == 'NLLLoss':\n",
    "                outputs = F.log_softmax(outputs, dim=1)  # Apply log softmax for NLLLoss\n",
    "            _, predicted = torch.max(outputs, 1)\n",
    "            total += labels.size(0)\n",
    "            correct += (predicted == labels).sum().item()\n",
    "    accuracy = 100 * correct / total\n",
    "    print(f'Accuracy using {loss_name}: {accuracy:.2f}%')\n"
   ]
  },
  {
   "cell_type": "markdown",
   "metadata": {
    "id": "8k1SnIQHV2_B"
   },
   "source": [
    " both CrossEntropyLoss and NLLLoss are suitable for the classification task, with CrossEntropyLoss being a more convenient choice as it combines log softmax and negative log likelihood in a single function so yeilded the high accuracy with 96.15 when compared with the nllloss. However, the accuracy achieved with NLLLoss demonstrates that it can also yield accurate results when properly applied with the appropriate model architecture adjustments."
   ]
  },
  {
   "cell_type": "markdown",
   "metadata": {
    "id": "VfraWrieagK0"
   },
   "source": [
    "# Testing With Different Activation Functions"
   ]
  },
  {
   "cell_type": "code",
   "execution_count": 23,
   "metadata": {
    "colab": {
     "base_uri": "https://localhost:8080/"
    },
    "id": "_gt2hFypV4Jf",
    "outputId": "b7db5425-f5ab-498e-fec7-2d2fe9b6bb1c"
   },
   "outputs": [
    {
     "name": "stdout",
     "output_type": "stream",
     "text": [
      "Accuracy using ReLU: 96.78%\n",
      "Accuracy using Sigmoid: 96.65%\n",
      "Accuracy using Tanh: 95.97%\n",
      "Accuracy using LeakyReLU: 96.45%\n"
     ]
    }
   ],
   "source": [
    "# Define a list of activation functions to test\n",
    "activation_functions = {\n",
    "    'ReLU': nn.ReLU(),\n",
    "    'Sigmoid': nn.Sigmoid(),\n",
    "    'Tanh': nn.Tanh(),\n",
    "    'LeakyReLU': nn.LeakyReLU(negative_slope=0.1),\n",
    "    # Add more activation functions as needed\n",
    "}\n",
    "\n",
    "# Training and evaluation loop\n",
    "for activation_name, activation_func in activation_functions.items():\n",
    "    # Reinitialize the model for each activation function\n",
    "    class ModifiedMLP(nn.Module):\n",
    "        def __init__(self):\n",
    "            super(ModifiedMLP, self).__init__()\n",
    "            self.fc1 = nn.Linear(28 * 28, 128)\n",
    "            self.fc2 = nn.Linear(128, 64)\n",
    "            self.fc3 = nn.Linear(64, 10)\n",
    "            self.activation = activation_func  # Apply the activation function\n",
    "\n",
    "        def forward(self, x):\n",
    "            x = x.view(-1, 28 * 28)\n",
    "            x = self.activation(self.fc1(x))\n",
    "            x = self.activation(self.fc2(x))\n",
    "            x = self.fc3(x)\n",
    "            return x\n",
    "\n",
    "    model = ModifiedMLP()\n",
    "    optimizer = optim.Adam(model.parameters(), lr=0.001)  # Reinitialize optimizer\n",
    "    criterion = nn.CrossEntropyLoss()  # Use CrossEntropyLoss for classification\n",
    "\n",
    "    # Train the model\n",
    "    for epoch in range(num_epochs):\n",
    "        model.train()\n",
    "        for images, labels in train_loader:\n",
    "            optimizer.zero_grad()\n",
    "            outputs = model(images)\n",
    "            loss = criterion(outputs, labels)\n",
    "            loss.backward()\n",
    "            optimizer.step()\n",
    "\n",
    "    # Evaluate the model\n",
    "    model.eval()\n",
    "    correct = 0\n",
    "    total = 0\n",
    "    with torch.no_grad():\n",
    "        for images, labels in test_loader:\n",
    "            outputs = model(images)\n",
    "            _, predicted = torch.max(outputs, 1)\n",
    "            total += labels.size(0)\n",
    "            correct += (predicted == labels).sum().item()\n",
    "    accuracy = 100 * correct / total\n",
    "    print(f'Accuracy using {activation_name}: {accuracy:.2f}%')\n"
   ]
  },
  {
   "cell_type": "markdown",
   "metadata": {
    "id": "t2aOnoKQYOaP"
   },
   "source": [
    "The comparable accuracy levels achieved by different activation functions can be attributed to their underlying mathematical properties and suitability for the task at hand. ReLU (Rectified Linear Unit), known for its simplicity and effectiveness in mitigating the vanishing gradient problem, demonstrated the highest accuracy at 96.78%. Its ability to efficiently model non-linearities in the data likely contributed to its superior performance. Similarly, Sigmoid, which squashes values between 0 and 1, and Tanh, which squashes values between -1 and 1, performed well, albeit marginally lower than ReLU. These functions, while effective in certain scenarios like binary classification and data normalization, respectively, may have slightly lagged behind ReLU due to their tendency to saturate at extreme input values, leading to gradient vanishing or exploding issues. LeakyReLU, offering a small, non-zero gradient for negative inputs, addressed the \"dying ReLU\" problem and achieved competitive accuracy. Overall, the marginal differences in accuracy among these activation functions indicate their overall suitability for the QMNIST dataset, with ReLU emerging as the most effective choice due to its simplicity and ability to model complex relationships in the data."
   ]
  },
  {
   "cell_type": "markdown",
   "metadata": {
    "id": "f8Iy7w5Qa26i"
   },
   "source": [
    "# Testing Different Dropout Probabilities"
   ]
  },
  {
   "cell_type": "code",
   "execution_count": 24,
   "metadata": {
    "colab": {
     "base_uri": "https://localhost:8080/"
    },
    "id": "YyweJnpUYPzx",
    "outputId": "f1d3ce47-3cd5-4589-d814-4b3ea3048278"
   },
   "outputs": [
    {
     "name": "stdout",
     "output_type": "stream",
     "text": [
      "Accuracy using dropout probability 0.0: 96.55%\n",
      "Accuracy using dropout probability 0.2: 96.26%\n",
      "Accuracy using dropout probability 0.5: 93.90%\n"
     ]
    }
   ],
   "source": [
    "# Define a list of dropout probabilities to test\n",
    "dropout_probs = [0.0, 0.2, 0.5]  # dropout probabilities\n",
    "\n",
    "# Training and evaluation loop\n",
    "for dropout_prob in dropout_probs:\n",
    "    # Define the modified model with dropout\n",
    "    class ModifiedMLP(nn.Module):\n",
    "        def __init__(self, dropout_prob):\n",
    "            super(ModifiedMLP, self).__init__()\n",
    "            self.fc1 = nn.Linear(28 * 28, 128)\n",
    "            self.dropout1 = nn.Dropout(p=dropout_prob)  # Dropout layer\n",
    "            self.fc2 = nn.Linear(128, 64)\n",
    "            self.dropout2 = nn.Dropout(p=dropout_prob)  # Dropout layer\n",
    "            self.fc3 = nn.Linear(64, 10)\n",
    "\n",
    "        def forward(self, x):\n",
    "            x = x.view(-1, 28 * 28)\n",
    "            x = F.relu(self.fc1(x))\n",
    "            x = self.dropout1(x)  # Apply dropout\n",
    "            x = F.relu(self.fc2(x))\n",
    "            x = self.dropout2(x)  # Apply dropout\n",
    "            x = self.fc3(x)\n",
    "            return x\n",
    "\n",
    "    model = ModifiedMLP(dropout_prob)\n",
    "    optimizer = optim.Adam(model.parameters(), lr=0.001)  # Reinitialize optimizer\n",
    "    criterion = nn.CrossEntropyLoss()  # Use CrossEntropyLoss for classification\n",
    "\n",
    "    # Train the model\n",
    "    for epoch in range(num_epochs):\n",
    "        model.train()\n",
    "        for images, labels in train_loader:\n",
    "            optimizer.zero_grad()\n",
    "            outputs = model(images)\n",
    "            loss = criterion(outputs, labels)\n",
    "            loss.backward()\n",
    "            optimizer.step()\n",
    "\n",
    "    # Evaluate the model\n",
    "    model.eval()\n",
    "    correct = 0\n",
    "    total = 0\n",
    "    with torch.no_grad():\n",
    "        for images, labels in test_loader:\n",
    "            outputs = model(images)\n",
    "            _, predicted = torch.max(outputs, 1)\n",
    "            total += labels.size(0)\n",
    "            correct += (predicted == labels).sum().item()\n",
    "    accuracy = 100 * correct / total\n",
    "    print(f'Accuracy using dropout probability {dropout_prob}: {accuracy:.2f}%')\n"
   ]
  },
  {
   "cell_type": "markdown",
   "metadata": {
    "id": "AVWXtF4pazRf"
   },
   "source": [
    "Firstly, with a dropout probability of 0.0, where no dropout was applied, the model achieved the highest accuracy of 96.55%. This outcome suggests that for this specific model architecture and dataset, dropout regularization might not be necessary, as the model is capable of achieving high performance without it. However, when a dropout probability of 0.2 was introduced, resulting in the random zeroing-out of 20% of activations during training, there was a slight reduction in accuracy to 96.26%. While dropout regularization is designed to prevent overfitting by introducing noise during training, it appears that in this scenario, a moderate dropout rate did not significantly improve performance and may have even hindered it slightly. Conversely, employing a higher dropout probability of 0.5 led to a more pronounced decrease in accuracy to 93.90%. With half of the activations randomly zeroed out during training, the model may have suffered from increased underfitting, resulting in a notable drop in performance. Overall, these findings highlight the importance of careful experimentation and parameter tuning to determine the optimal dropout probability for a given model and dataset combination. While dropout regularization can be effective in preventing overfitting, its application should be tailored to the specific characteristics of the problem at hand to ensure optimal performance.\n",
    "\n",
    "\n",
    "\n",
    "\n"
   ]
  },
  {
   "cell_type": "code",
   "execution_count": null,
   "metadata": {},
   "outputs": [],
   "source": []
  }
 ],
 "metadata": {
  "colab": {
   "provenance": []
  },
  "kernelspec": {
   "display_name": "Python 3 (ipykernel)",
   "language": "python",
   "name": "python3"
  },
  "language_info": {
   "codemirror_mode": {
    "name": "ipython",
    "version": 3
   },
   "file_extension": ".py",
   "mimetype": "text/x-python",
   "name": "python",
   "nbconvert_exporter": "python",
   "pygments_lexer": "ipython3",
   "version": "3.11.5"
  }
 },
 "nbformat": 4,
 "nbformat_minor": 1
}
